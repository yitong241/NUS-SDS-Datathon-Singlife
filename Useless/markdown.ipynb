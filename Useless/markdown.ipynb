{
 "cells": [
  {
   "attachments": {},
   "cell_type": "markdown",
   "metadata": {},
   "source": [
    "# Purchase History\n",
    "We would like to draw insights from the purchase history of a customer. \n",
    "\n",
    "- Columns __['Average_Bought_Gap']__ represents the average gap for a customer to buy any insurance product. \n",
    "- Additional columns __['Exceed Average Gap']__ & __['Exceed Average Gap with Purchase']__ calculate whether the months passed of last insurance purchase exceed the average purchase gap of a customer from current records. If TRUE, meaning the months passed exceeds the average gap. This shows it is more likely that certain customer will purchase a new insurance product soon. __['Exceed Average Gap']__ includes all customer with or without purchase while __['Exceed Average Gap with Purchase']__ only includes customers with past purchase history with the company.\n",
    "\n",
    "- __['Claimed_Large_Amount']__ is created to study whether a customer has made any large amount claim in the past. If so, meaning this customer was once benefited from insurance and learnt the importance of insurance, who would more likely to purchase another insurance. The threshold value is set to $50,000 which is the whole thousands value slightly above median. \n",
    "\n",
    "- Similarly, new columns __['Lapsed_Large_Amount']__, __['Average_Lapse_Gap']__ are created for Lapse raw data.\n",
    "\n",
    "- New column __['Months_Last_Bought_Category']__ created is to divide __['n_months_last_bought_products']__ column into different categories as the original column may not follow a simple linear relationship with the target column. We follow the generally used time curve to categorize them."
   ]
  }
 ],
 "metadata": {
  "language_info": {
   "name": "python"
  },
  "orig_nbformat": 4
 },
 "nbformat": 4,
 "nbformat_minor": 2
}
